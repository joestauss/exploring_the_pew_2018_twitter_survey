{
 "cells": [
  {
   "cell_type": "code",
   "execution_count": 1,
   "metadata": {},
   "outputs": [],
   "source": [
    "import pandas as pd\n",
    "from collections import namedtuple\n",
    "from py_util.cli import boxed_text\n",
    "\n",
    "df = pd.read_csv('Twitter Survey 2018.csv')"
   ]
  },
  {
   "cell_type": "markdown",
   "metadata": {},
   "source": [
    "# Sorting Columns into Sections\n",
    "\n",
    "This section was used as an active workspace, and now holds the definitions of the sections.  My findings are summarized below"
   ]
  },
  {
   "cell_type": "code",
   "execution_count": 2,
   "metadata": {
    "scrolled": true
   },
   "outputs": [
    {
     "name": "stdout",
     "output_type": "stream",
     "text": [
      "========================================================\n",
      "||                                                    ||\n",
      "||     DONE!                                          ||\n",
      "||     All data atrributes have been categorized.     ||\n",
      "||                                                    ||\n",
      "========================================================\n"
     ]
    }
   ],
   "source": [
    "Section = namedtuple( 'Section', [ 'name', 'cols', 'num_struct'])\n",
    "\n",
    "\n",
    "sections = [\n",
    "    Section('Administrative', \n",
    "           ['CaseID', 'tm_start', 'tm_finish', 'duration', 'qflag', 'base_weight', 'weight', \n",
    "            'TWITTER', 'TWITTER_USE', 'TWITTER_HANDLE_Refused'\n",
    "           ], \n",
    "           0),\n",
    "    Section('Trust and Community',\n",
    "           ['COMATTACH', \n",
    "            'SOCTRUST2', 'SOCTRUST2_order_1', 'SOCTRUST2_order_2',\n",
    "            'GSSTRUST2', 'GSSTRUST2_order_1', 'GSSTRUST2_order_2',\n",
    "            'GSSTRUST3', 'GSSTRUST3_order_1', 'GSSTRUST3_order_2',\n",
    "            'VOL1', 'VOL2'\n",
    "           ],\n",
    "           6),\n",
    "    Section('Political Engagment',\n",
    "           ['VOTED', \n",
    "            'TRUSTCONGa', 'TRUSTCONGb', 'TRUSTCONGc', 'TRUSTCONGd', 'TRUSTCONGe', \n",
    "            'TRUSTCONGa_order', 'TRUSTCONGb_order', 'TRUSTCONGc_order', 'TRUSTCONGd_order', 'TRUSTCONGe_order',\n",
    "            'CIVIC_ENG_ACTYRa', 'CIVIC_ENG_ACTYRb', 'CIVIC_ENG_ACTYRc',\n",
    "            'CIVIC_ENG_ACTYRa_order', 'CIVIC_ENG_ACTYRb_order', 'CIVIC_ENG_ACTYRc_order',\n",
    "            'REG'\n",
    "           ],\n",
    "           8),\n",
    "    Section('Political Opinions',\n",
    "           ['CONGPOST', 'CONGPOST_order_1', 'CONGPOST_order_2', 'CONGPOST_order_3',\n",
    "            'POL1DT', 'POL1DTSTR',\n",
    "            'PARTY', 'PARTYLN',\n",
    "            'REPANTIP', 'REPANTIP_order_1', 'REPANTIP_order_2',\n",
    "            'DEMANTIP', 'DEMANTIP_order_1', 'DEMANTIP_order_2',\n",
    "            'DOV_IDEO', 'DOV_ASSIGN', 'IDEODEM', 'IDEOREP', 'IDEOSELF'\n",
    "           \n",
    "           ],\n",
    "           11),\n",
    "    Section(\"Friends and Twitter Connections\",\n",
    "           ['FRIENDT', 'FRIENDT_order_1', 'FRIENDT_order_2', 'FRIENDT_order_3', 'FRIENDT_order_4', 'FRIENDT_order_5',\n",
    "            'QBELIEF3', 'QBELIEF4',\n",
    "            'QBELIEF3_order_1', 'QBELIEF3_order_2','QBELIEF3_order_3', 'QBELIEF3_order_6',\n",
    "            'QBELIEF4_order_1', 'QBELIEF4_order_2','QBELIEF4_order_3', 'QBELIEF4_order_6',\n",
    "            'TWKNOW', \n",
    "            'TWKNOW_order_1', 'TWKNOW_order_2', 'TWKNOW_order_3'\n",
    "           ],\n",
    "           16),\n",
    "    Section('News Sourcs',\n",
    "           ['NEWSIMPT',\n",
    "            'SNSSKEP', 'SNSSKEP_order_1', 'SNSSKEP_order_2'\n",
    "           ],\n",
    "           2),\n",
    "    Section('Online Behavior',\n",
    "           ['TWAUTO', 'TWAUTO_order_1', 'TWAUTO_order_2',\n",
    "            'JOKE1_order', 'CHOICE1_order',\n",
    "            'JOKE1', 'CHOICE1',\n",
    "            'JOKE1_order_1', 'JOKE1_order_2', 'CHOICE1_order_1', 'CHOICE1_order_2',\n",
    "            'POLTWEET'\n",
    "           ],\n",
    "           8),\n",
    "    Section('Feeling Thermometers', \n",
    "           ['THERMOa', 'THERMOb', 'THERMOc', 'THERMOd', 'THERMOe', 'THERMOf', 'THERMOg', 'THERMOh',\n",
    "            'THERMOa_order', 'THERMOb_order', 'THERMOc_order', 'THERMOd_order', \n",
    "            'THERMOe_order', 'THERMOf_order', 'THERMOg_order', 'THERMOh_order' ],\n",
    "            8),\n",
    "    Section('National Problems',\n",
    "           ['NATPROBSa', 'NATPROBSb', 'NATPROBSc', 'NATPROBSd', 'NATPROBSe', 'NATPROBSf', 'NATPROBSg', 'NATPROBSh', 'NATPROBSi', 'NATPROBSj',\n",
    "            'NATPROBSa_order', 'NATPROBSb_order', 'NATPROBSc_order', 'NATPROBSd_order', 'NATPROBSe_order', \n",
    "            'NATPROBSf_order', 'NATPROBSg_order', 'NATPROBSh_order', 'NATPROBSi_order', 'NATPROBSj_order'  \n",
    "           ],\n",
    "           10),\n",
    "    Section('Specific Issues',\n",
    "           ['FAIRTRT',   'FAIRTRT_order_1',   'FAIRTRT_order_2', 'FAIRTRT_order_3',\n",
    "            'WOMENOPPS', 'WOMENOPPS_order_1', 'WOMENOPPS_order_2',\n",
    "            'IMMCULT2',  'IMMCULT2_order_1',  'IMMCULT2_order_2',\n",
    "            'ECONFAIR2', 'ECONFAIR2_order_1', 'ECONFAIR2_order_2',\n",
    "            'POLCRCT',   'POLCRCT_order_1',   'POLCRCT_order_2'               \n",
    "           ],\n",
    "           11),\n",
    "    Section('Religion',\n",
    "           ['RELIG', 'RELIG_text', 'CHR', 'BORN', 'RELIMP',\n",
    "            'TALKREL','TALKREL_order_1', 'TALKREL_order_2', 'TALKREL_order_3', 'TALKREL_order_4', 'TALKREL_order_5'\n",
    "           ],\n",
    "           6),\n",
    "    Section('Demographic',\n",
    "           ['PPAGE', 'ppagecat', 'ppagect4', 'PPEDUC', 'PPEDUCAT', 'PPETHM', 'PPGENDER',\n",
    "            'PPHHHEAD', 'PPHHSIZE', 'PPHOUSE', 'PPINCIMP', 'PPMARIT', 'PPMSACAT',\n",
    "            'PPREG4', 'ppreg9', 'PPRENT', 'PPSTATEN',\n",
    "            'PPT01', 'PPT25', 'PPT612', 'PPT1317', 'PPT18OV', 'PPWORK'\n",
    "           ],\n",
    "           0)\n",
    "]\n",
    "\n",
    "for sect in sections:\n",
    "    for col in sect.cols:\n",
    "        if any( [col not in df.columns]):\n",
    "            raise ValueError( f\"{col} in {sect.name} is not a valid data attribute.\")\n",
    "\n",
    "FINISHED = True\n",
    "for i, col in enumerate( df.columns ):\n",
    "    if not any( col in sect.cols for sect in sections):\n",
    "        FINISHED = False\n",
    "        for first_value, name_of_section in column_sections.items():\n",
    "            if i == first_value:\n",
    "                print( f\"\\n====={name_of_section}=====\")\n",
    "\n",
    "        num_spaces = 6 - len( str( i))\n",
    "        print( f\"{i}{' '*num_spaces}: {col}\" )\n",
    "    \n",
    "if FINISHED:\n",
    "    print( boxed_text( 'DONE!','All data atrributes have been categorized.'))"
   ]
  },
  {
   "cell_type": "markdown",
   "metadata": {},
   "source": [
    "# Results"
   ]
  },
  {
   "cell_type": "code",
   "execution_count": 3,
   "metadata": {},
   "outputs": [
    {
     "name": "stdout",
     "output_type": "stream",
     "text": [
      "Administrative                        ||  10 data columns       ||  0 structure columns \n",
      "Trust and Community                   ||  6 data columns        ||  6 structure columns \n",
      "Political Engagment                   ||  10 data columns       ||  8 structure columns \n",
      "Political Opinions                    ||  8 data columns        ||  11 structure columns\n",
      "Friends and Twitter Connections       ||  4 data columns        ||  16 structure columns\n",
      "News Sourcs                           ||  2 data columns        ||  2 structure columns \n",
      "Online Behavior                       ||  4 data columns        ||  8 structure columns \n",
      "Feeling Thermometers                  ||  8 data columns        ||  8 structure columns \n",
      "National Problems                     ||  10 data columns       ||  10 structure columns\n",
      "Specific Issues                       ||  5 data columns        ||  11 structure columns\n",
      "Religion                              ||  5 data columns        ||  6 structure columns \n",
      "Demographic                           ||  23 data columns       ||  0 structure columns \n"
     ]
    }
   ],
   "source": [
    "def get_longest_str_length( strings):\n",
    "    return max( len( string) for string in strings)\n",
    "\n",
    "strings = [\n",
    "    ( s.name,\n",
    "     f\"{len(s.cols) - s.num_struct} data columns\",\n",
    "     f\"{s.num_struct} structure columns\"\n",
    "     ) for s in sections\n",
    "]\n",
    "\n",
    "len_longest = [\n",
    "    get_longest_str_length( s[i] for s in strings)\n",
    "    for i in range( len( strings[0]))\n",
    "]\n",
    "\n",
    "for s in strings:\n",
    "    true_strs = [ s[i] + (' ' * (len_longest[i] - len( s[i]))) for i in range( len( s))]\n",
    "    print( '       ||  '.join( true_strs))"
   ]
  },
  {
   "cell_type": "code",
   "execution_count": 4,
   "metadata": {},
   "outputs": [
    {
     "name": "stdout",
     "output_type": "stream",
     "text": [
      "Of the 181 data attributes...\n",
      "\t96 are either structural or administrative,\n",
      "\t28 contain demographic information (including religion), and\n",
      "\t57 are survey results.\n"
     ]
    }
   ],
   "source": [
    "not_useful = 10 + sum( s.num_struct for s in sections)\n",
    "\n",
    "print( f\"Of the {len( df.columns)} data attributes...\")\n",
    "print( f\"\\t{not_useful} are either structural or administrative,\")\n",
    "print( f\"\\t28 contain demographic information (including religion), and\")\n",
    "print( f\"\\t{len( df.columns) - not_useful - 28} are survey results.\")"
   ]
  },
  {
   "cell_type": "code",
   "execution_count": 5,
   "metadata": {},
   "outputs": [
    {
     "name": "stdout",
     "output_type": "stream",
     "text": [
      "Of the 57 survey-result data attributes...\n",
      "\t23 ask about feelings about specific issues\n",
      "\t20 ask about trust and community (both online and offline communities)\n",
      "\t8 ask about respondant's politics\n",
      "\t4 ask about the respondant's friends\n",
      "\t2 ask about the respondant's news sources\n"
     ]
    }
   ],
   "source": [
    "print(\"Of the 57 survey-result data attributes...\")\n",
    "print(\"\\t23 ask about feelings about specific issues\")\n",
    "print(\"\\t20 ask about trust and community (both online and offline communities)\")\n",
    "print(\"\\t8 ask about respondant's politics\")\n",
    "print(\"\\t4 ask about the respondant's friends\")\n",
    "print(\"\\t2 ask about the respondant's news sources\")"
   ]
  }
 ],
 "metadata": {
  "kernelspec": {
   "display_name": "Python 3",
   "language": "python",
   "name": "python3"
  },
  "language_info": {
   "codemirror_mode": {
    "name": "ipython",
    "version": 3
   },
   "file_extension": ".py",
   "mimetype": "text/x-python",
   "name": "python",
   "nbconvert_exporter": "python",
   "pygments_lexer": "ipython3",
   "version": "3.9.1"
  }
 },
 "nbformat": 4,
 "nbformat_minor": 4
}
